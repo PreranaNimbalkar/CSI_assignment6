{
 "cells": [
  {
   "cell_type": "code",
   "execution_count": 1,
   "id": "96306aca-ded6-43b9-a772-ef9239f05d62",
   "metadata": {},
   "outputs": [
    {
     "ename": "ModuleNotFoundError",
     "evalue": "No module named 'missingno'",
     "output_type": "error",
     "traceback": [
      "\u001b[1;31m---------------------------------------------------------------------------\u001b[0m",
      "\u001b[1;31mModuleNotFoundError\u001b[0m                       Traceback (most recent call last)",
      "Cell \u001b[1;32mIn[1], line 10\u001b[0m\n\u001b[0;32m      8\u001b[0m \u001b[38;5;28;01mfrom\u001b[39;00m \u001b[38;5;21;01mmatplotlib\u001b[39;00m \u001b[38;5;28;01mimport\u001b[39;00m pyplot \u001b[38;5;28;01mas\u001b[39;00m plt\n\u001b[0;32m      9\u001b[0m \u001b[38;5;66;03m# !pip install missingno\u001b[39;00m\n\u001b[1;32m---> 10\u001b[0m \u001b[38;5;28;01mimport\u001b[39;00m \u001b[38;5;21;01mmissingno\u001b[39;00m \u001b[38;5;28;01mas\u001b[39;00m \u001b[38;5;21;01mmsno\u001b[39;00m\n\u001b[0;32m     11\u001b[0m \u001b[38;5;28;01mfrom\u001b[39;00m \u001b[38;5;21;01mdatetime\u001b[39;00m \u001b[38;5;28;01mimport\u001b[39;00m date\n\u001b[0;32m     12\u001b[0m \u001b[38;5;28;01mfrom\u001b[39;00m \u001b[38;5;21;01msklearn\u001b[39;00m\u001b[38;5;21;01m.\u001b[39;00m\u001b[38;5;21;01mmetrics\u001b[39;00m \u001b[38;5;28;01mimport\u001b[39;00m accuracy_score\n",
      "\u001b[1;31mModuleNotFoundError\u001b[0m: No module named 'missingno'"
     ]
    }
   ],
   "source": [
    "#############################################\n",
    "# FEATURE ENGINEERING & DATA PRE-PROCESSING\n",
    "#############################################\n",
    "\n",
    "import numpy as np\n",
    "import pandas as pd\n",
    "import seaborn as sns\n",
    "from matplotlib import pyplot as plt\n",
    "# !pip install missingno\n",
    "import missingno as msno\n",
    "from datetime import date\n",
    "from sklearn.metrics import accuracy_score\n",
    "from sklearn.model_selection import train_test_split\n",
    "from sklearn.neighbors import LocalOutlierFactor\n",
    "from sklearn.preprocessing import MinMaxScaler, LabelEncoder, StandardScaler, RobustScaler\n",
    "\n",
    "#We will work on two different datasets: \"titanic.csv\" and \n",
    "#\"application_train.csv\" . Titanic is a smaller dataset, \n",
    "#and application_train is bigger dataset. In most of cases,\n",
    "#we will deal with big datasets. So, you will see how the size of data\n",
    "#affects our results."
   ]
  },
  {
   "cell_type": "code",
   "execution_count": 2,
   "id": "e2709dca-3e02-47a3-a5b5-d6cfcdec339e",
   "metadata": {},
   "outputs": [
    {
     "name": "stdout",
     "output_type": "stream",
     "text": [
      "(307511, 122)\n",
      "(891, 12)\n"
     ]
    },
    {
     "data": {
      "image/png": "[encoded data removed]",
      "text/plain": [
       "<Figure size 640x480 with 1 Axes>"
      ]
     },
     "metadata": {},
     "output_type": "display_data"
    }
   ],
   "source": [
    "def load_application_train():\n",
    "    data = pd.read_csv(\"application_train.csv\")\n",
    "    return data\n",
    "\n",
    "\n",
    "\n",
    "\n",
    "#See the shape of bigger dataset\n",
    "df = load_application_train()\n",
    "print(df.shape)        # (307511, 122)\n",
    "\n",
    "\n",
    "\n",
    "\n",
    "\n",
    "def load():\n",
    "    data = pd.read_csv(\"titanic.csv\")\n",
    "    return data\n",
    "\n",
    "\n",
    "\n",
    "#See the shape of smaller dataset\n",
    "df = load()\n",
    "print(df.shape)       # (891, 12)\n",
    "\n",
    "\n",
    "\n",
    "\n",
    "#Let's begin with the smaller dataset, \"titanic.csv\"\n",
    "#We will try to detect outliers in a numerical 'Age' column by using \n",
    "#boxplot.\n",
    "\n",
    "sns.boxplot(x=df[\"Age\"])\n",
    "plt.show()  #IMAGE IS BELOW ('titan_age_outlier.png')"
   ]
  },
  {
   "cell_type": "code",
   "execution_count": 3,
   "id": "6fd92fca-627a-4e82-a8d1-d58a3add4ec5",
   "metadata": {},
   "outputs": [
    {
     "name": "stdout",
     "output_type": "stream",
     "text": [
      "     PassengerId  Survived  Pclass                                  Name  \\\n",
      "33            34         0       2                 Wheadon, Mr. Edward H   \n",
      "54            55         0       1        Ostby, Mr. Engelhart Cornelius   \n",
      "96            97         0       1             Goldschmidt, Mr. George B   \n",
      "116          117         0       3                  Connors, Mr. Patrick   \n",
      "280          281         0       3                      Duane, Mr. Frank   \n",
      "456          457         0       1             Millet, Mr. Francis Davis   \n",
      "493          494         0       1               Artagaveytia, Mr. Ramon   \n",
      "630          631         1       1  Barkworth, Mr. Algernon Henry Wilson   \n",
      "672          673         0       2           Mitchell, Mr. Henry Michael   \n",
      "745          746         0       1          Crosby, Capt. Edward Gifford   \n",
      "851          852         0       3                   Svensson, Mr. Johan   \n",
      "\n",
      "      Sex   Age  SibSp  Parch      Ticket     Fare Cabin Embarked  \n",
      "33   male  66.0      0      0  C.A. 24579  10.5000   NaN        S  \n",
      "54   male  65.0      0      1      113509  61.9792   B30        C  \n",
      "96   male  71.0      0      0    PC 17754  34.6542    A5        C  \n",
      "116  male  70.5      0      0      370369   7.7500   NaN        Q  \n",
      "280  male  65.0      0      0      336439   7.7500   NaN        Q  \n",
      "456  male  65.0      0      0       13509  26.5500   E38        S  \n",
      "493  male  71.0      0      0    PC 17609  49.5042   NaN        C  \n",
      "630  male  80.0      0      0       27042  30.0000   A23        S  \n",
      "672  male  70.0      0      0  C.A. 24580  10.5000   NaN        S  \n",
      "745  male  70.0      1      1   WE/P 5735  71.0000   B22        S  \n",
      "851  male  74.0      0      0      347060   7.7750   NaN        S  \n"
     ]
    }
   ],
   "source": [
    "#We know how a boxplot is constructed. So we need to find Q1(25th percentile)\n",
    "#Q3(75th percentile), and then minimum and maximum values by using 1.5IQR.\n",
    "\n",
    "q1 = df[\"Age\"].quantile(0.25)\n",
    "q3 = df[\"Age\"].quantile(0.75)\n",
    "iqr = q3 - q1\n",
    "up = q3 + 1.5 * iqr\n",
    "low = q1 - 1.5 * iqr\n",
    "\n",
    "\n",
    "\n",
    "\n",
    "#Now see outliers\n",
    "print(df[(df[\"Age\"] < low) | (df[\"Age\"] > up)])\n"
   ]
  },
  {
   "cell_type": "code",
   "execution_count": 4,
   "id": "37a652f1-47f7-4cf2-876d-14d273b6708f",
   "metadata": {},
   "outputs": [
    {
     "name": "stdout",
     "output_type": "stream",
     "text": [
      "Index([33, 54, 96, 116, 280, 456, 493, 630, 672, 745, 851], dtype='int64')\n",
      "True\n",
      "False\n"
     ]
    }
   ],
   "source": [
    "#Index of outliers\n",
    "print(df[(df[\"Age\"] < low) | (df[\"Age\"] > up)].index)\n",
    "\n",
    "#Int64Index([33, 54, 96, 116, 280, 456, 493, 630, 672, 745, 851], dtype='int64')\n",
    "\n",
    "\n",
    "\n",
    "\n",
    "\n",
    "#You can directly check if there is a outlier or not by using any() function.\n",
    "print(df[(df[\"Age\"] < low) | (df[\"Age\"] > up)].any(axis=None))  #True\n",
    "#It returns true because there are some rows that lie beyond the\n",
    "#thresholds we specified. We used a parameter called axis=None since we don't \n",
    "#care rows or columns. \n",
    "\n",
    "\n",
    "\n",
    "\n",
    "\n",
    "\n",
    "#However, if you remember titan_age_outlier.png, you see that there is no\n",
    "#outlier that is lower than the threshold. Therefore, the below code will\n",
    "#return False.\n",
    "print(df[(df[\"Age\"] < low)].any(axis=None))  #  False"
   ]
  },
  {
   "cell_type": "code",
   "execution_count": 5,
   "id": "196975dc-e71e-427c-b035-a8e1cf28375a",
   "metadata": {},
   "outputs": [
    {
     "name": "stdout",
     "output_type": "stream",
     "text": [
      "(-6.6875, 64.8125)\n",
      "    PassengerId  Survived  Pclass  \\\n",
      "1             2         1       1   \n",
      "27           28         0       1   \n",
      "31           32         1       1   \n",
      "34           35         0       1   \n",
      "52           53         1       1   \n",
      "\n",
      "                                                 Name     Sex   Age  SibSp  \\\n",
      "1   Cumings, Mrs. John Bradley (Florence Briggs Th...  female  38.0      1   \n",
      "27                     Fortune, Mr. Charles Alexander    male  19.0      3   \n",
      "31     Spencer, Mrs. William Augustus (Marie Eugenie)  female   NaN      1   \n",
      "34                            Meyer, Mr. Edgar Joseph    male  28.0      1   \n",
      "52           Harper, Mrs. Henry Sleeper (Myna Haxtun)  female  49.0      1   \n",
      "\n",
      "    Parch    Ticket      Fare        Cabin Embarked  \n",
      "1       0  PC 17599   71.2833          C85        C  \n",
      "27      2     19950  263.0000  C23 C25 C27        S  \n",
      "31      0  PC 17569  146.5208          B78        C  \n",
      "34      0  PC 17604   82.1708          NaN        C  \n",
      "52      0  PC 17572   76.7292          D33        C  \n"
     ]
    }
   ],
   "source": [
    "def outlier_thresholds(dataframe, col_name, q1=0.25, q3=0.75):\n",
    "    quartile1 = dataframe[col_name].quantile(q1)\n",
    "    quartile3 = dataframe[col_name].quantile(q3)\n",
    "    interquantile_range = quartile3 - quartile1\n",
    "    up_limit = quartile3 + 1.5 * interquantile_range\n",
    "    low_limit = quartile1 - 1.5 * interquantile_range\n",
    "    return low_limit, up_limit\n",
    "\n",
    "\n",
    "\n",
    "\n",
    "print(outlier_thresholds(df, \"Age\")) # (-6.6875, 64.8125)\n",
    "#As you can see, if age is below -6.68 or higher 64.81, we can say that\n",
    "#it is an outlier. But be careful, age cannot be lower than 0. So we don't\n",
    "#need to care lower threshold since it is -6.68\n",
    "\n",
    "\n",
    "\n",
    "\n",
    "\n",
    "low, up = outlier_thresholds(df, \"Fare\")\n",
    "print(df[(df[\"Fare\"] < low) | (df[\"Fare\"] > up)].head())"
   ]
  },
  {
   "cell_type": "code",
   "execution_count": 6,
   "id": "9c583266-6562-47d3-ae7a-4c79b66cf8a2",
   "metadata": {},
   "outputs": [
    {
     "name": "stdout",
     "output_type": "stream",
     "text": [
      "True\n",
      "True\n"
     ]
    }
   ],
   "source": [
    "#Write a function that check if there is any outliers.\n",
    "def check_outlier(dataframe, col_name):\n",
    "    low_limit, up_limit = outlier_thresholds(dataframe, col_name)\n",
    "    if dataframe[(dataframe[col_name] > up_limit) | (dataframe[col_name] < low_limit)].any(axis=None):\n",
    "        return True\n",
    "    else:\n",
    "        return False\n",
    "\n",
    "print(check_outlier(df, \"Age\"))    # True  (yes, there is at least 1 outlier.)\n",
    "print(check_outlier(df, \"Fare\"))   # True  (yes, there is at least 1 outlier.)\n"
   ]
  },
  {
   "cell_type": "code",
   "execution_count": 7,
   "id": "5160d0fd-b41d-4c69-90e2-cc7544cffb35",
   "metadata": {},
   "outputs": [
    {
     "ename": "SyntaxError",
     "evalue": "incomplete input (780698162.py, line 4)",
     "output_type": "error",
     "traceback": [
      "\u001b[1;36m  Cell \u001b[1;32mIn[7], line 4\u001b[1;36m\u001b[0m\n\u001b[1;33m    def grab_col_names(dataframe, cat_th=10, car_th=20):\u001b[0m\n\u001b[1;37m                                                        ^\u001b[0m\n\u001b[1;31mSyntaxError\u001b[0m\u001b[1;31m:\u001b[0m incomplete input\n"
     ]
    }
   ],
   "source": [
    "#We will try to grab categorical columns, categorical but cardinal columns and\n",
    "#numerical columns. \n",
    "\n",
    "def grab_col_names(dataframe, cat_th=10, car_th=20):"
   ]
  },
  {
   "cell_type": "code",
   "execution_count": 8,
   "id": "56630199-b53a-4d15-bf74-324cd28eaae0",
   "metadata": {},
   "outputs": [
    {
     "ename": "IndentationError",
     "evalue": "unexpected indent (1120722394.py, line 2)",
     "output_type": "error",
     "traceback": [
      "\u001b[1;36m  Cell \u001b[1;32mIn[8], line 2\u001b[1;36m\u001b[0m\n\u001b[1;33m    num_but_cat = [col for col in dataframe.columns if dataframe[col].nunique() < cat_th and dataframe[col].dtypes != \"O\"]\u001b[0m\n\u001b[1;37m    ^\u001b[0m\n\u001b[1;31mIndentationError\u001b[0m\u001b[1;31m:\u001b[0m unexpected indent\n"
     ]
    }
   ],
   "source": [
    "cat_cols = [col for col in dataframe.columns if dataframe[col].dtypes == \"O\"]\n",
    "    num_but_cat = [col for col in dataframe.columns if dataframe[col].nunique() < cat_th and dataframe[col].dtypes != \"O\"]\n",
    "    cat_but_car = [col for col in dataframe.columns if dataframe[col].nunique() > car_th and dataframe[col].dtypes == \"O\"]\n",
    "    cat_cols = cat_cols + num_but_cat\n",
    "    cat_cols = [col for col in cat_cols if col not in cat_but_car]\n",
    "    num_cols = [col for col in dataframe.columns if dataframe[col].dtypes != \"O\" and col not in num_but_cat]\n",
    "\n",
    "    print(f\"Observations: {dataframe.shape[0]}\")\n",
    "    print(f\"Variables: {dataframe.shape[1]}\")\n",
    "    print(f\"cat_cols: {len(cat_cols)}\")\n",
    "    print(f\"num_cols: {len(num_cols)}\")\n",
    "    print(f\"cat_but_car: {len(cat_but_car)}\")\n",
    "    print(f\"num_but_cat: {len(num_but_cat)}\")\n",
    "\n",
    "    return cat_cols, num_cols, cat_but_car\n",
    "\n",
    "\n",
    "\n",
    "\n",
    "cat_cols, num_cols, cat_but_car = grab_col_names(df)"
   ]
  },
  {
   "cell_type": "code",
   "execution_count": 9,
   "id": "789f1fa9-6fd0-45a2-9c9e-8b9891f3ddf4",
   "metadata": {},
   "outputs": [
    {
     "ename": "NameError",
     "evalue": "name 'num_cols' is not defined",
     "output_type": "error",
     "traceback": [
      "\u001b[1;31m---------------------------------------------------------------------------\u001b[0m",
      "\u001b[1;31mNameError\u001b[0m                                 Traceback (most recent call last)",
      "Cell \u001b[1;32mIn[9], line 1\u001b[0m\n\u001b[1;32m----> 1\u001b[0m num_cols \u001b[38;5;241m=\u001b[39m [col \u001b[38;5;28;01mfor\u001b[39;00m col \u001b[38;5;129;01min\u001b[39;00m num_cols \u001b[38;5;28;01mif\u001b[39;00m col \u001b[38;5;129;01mnot\u001b[39;00m \u001b[38;5;129;01min\u001b[39;00m \u001b[38;5;124m\"\u001b[39m\u001b[38;5;124mPassengerId\u001b[39m\u001b[38;5;124m\"\u001b[39m]\n\u001b[0;32m      2\u001b[0m \u001b[38;5;28mprint\u001b[39m(num_cols)  \u001b[38;5;66;03m#  ['Age', 'Fare']\u001b[39;00m\n\u001b[0;32m      6\u001b[0m \u001b[38;5;66;03m#We will check outliers in numerical columns.\u001b[39;00m\n",
      "\u001b[1;31mNameError\u001b[0m: name 'num_cols' is not defined"
     ]
    }
   ],
   "source": [
    "num_cols = [col for col in num_cols if col not in \"PassengerId\"]\n",
    "print(num_cols)  #  ['Age', 'Fare']\n",
    "\n",
    "\n",
    "\n",
    "#We will check outliers in numerical columns.\n",
    "for col in num_cols:\n",
    "    print(col, check_outlier(df, col))"
   ]
  },
  {
   "cell_type": "code",
   "execution_count": 10,
   "id": "fe11219f-f9b4-4aa7-9e71-a064a8945d68",
   "metadata": {},
   "outputs": [
    {
     "ename": "NameError",
     "evalue": "name 'grab_col_names' is not defined",
     "output_type": "error",
     "traceback": [
      "\u001b[1;31m---------------------------------------------------------------------------\u001b[0m",
      "\u001b[1;31mNameError\u001b[0m                                 Traceback (most recent call last)",
      "Cell \u001b[1;32mIn[10], line 4\u001b[0m\n\u001b[0;32m      1\u001b[0m \u001b[38;5;66;03m#Let's import application_train.csv\u001b[39;00m\n\u001b[0;32m      2\u001b[0m dff \u001b[38;5;241m=\u001b[39m load_application_train()\n\u001b[1;32m----> 4\u001b[0m cat_cols, num_cols, cat_but_car \u001b[38;5;241m=\u001b[39m grab_col_names(dff)\n\u001b[0;32m      5\u001b[0m \u001b[38;5;124;03m'''\u001b[39;00m\n\u001b[0;32m      6\u001b[0m \u001b[38;5;124;03mObservations: 307511\u001b[39;00m\n\u001b[0;32m      7\u001b[0m \u001b[38;5;124;03mVariables: 122\u001b[39;00m\n\u001b[1;32m   (...)\u001b[0m\n\u001b[0;32m     11\u001b[0m \u001b[38;5;124;03mnum_but_cat: 39\u001b[39;00m\n\u001b[0;32m     12\u001b[0m \u001b[38;5;124;03m'''\u001b[39;00m\n\u001b[0;32m     15\u001b[0m \u001b[38;5;66;03m#Although 'SK_ID_CURR' is a numerical column, it is irrelevant for us. Therefore,\u001b[39;00m\n\u001b[0;32m     16\u001b[0m \u001b[38;5;66;03m#we will remove it from num_cols\u001b[39;00m\n",
      "\u001b[1;31mNameError\u001b[0m: name 'grab_col_names' is not defined"
     ]
    }
   ],
   "source": [
    "#Let's import application_train.csv\n",
    "dff = load_application_train()\n",
    "\n",
    "cat_cols, num_cols, cat_but_car = grab_col_names(dff)\n",
    "'''\n",
    "Observations: 307511\n",
    "Variables: 122\n",
    "cat_cols: 54\n",
    "num_cols: 67\n",
    "cat_but_car: 1\n",
    "num_but_cat: 39\n",
    "'''\n",
    "\n",
    "\n",
    "#Although 'SK_ID_CURR' is a numerical column, it is irrelevant for us. Therefore,\n",
    "#we will remove it from num_cols\n",
    "num_cols.remove('SK_ID_CURR')\n",
    "\n",
    "print()\n",
    "print()\n",
    "\n",
    "#Let's see which numerical columns have outliers.\n",
    "for col in num_cols:\n",
    "    print(col, check_outlier(dff, col))\n",
    "\n",
    "'''\n",
    "CNT_CHILDREN True\n",
    "AMT_INCOME_TOTAL True\n",
    "AMT_CREDIT True\n",
    "AMT_ANNUITY True\n",
    "AMT_GOODS_PRICE True\n",
    "REGION_POPULATION_RELATIVE True\n",
    "DAYS_BIRTH False\n",
    "DAYS_EMPLOYED True\n",
    "DAYS_REGISTRATION True\n",
    "DAYS_ID_PUBLISH False\n",
    "OWN_CAR_AGE True\n",
    "CNT_FAM_MEMBERS True\n",
    "HOUR_APPR_PROCESS_START True\n",
    "EXT_SOURCE_1 False\n",
    "EXT_SOURCE_2 False\n",
    "EXT_SOURCE_3 False\n",
    "APARTMENTS_AVG True\n",
    "BASEMENTAREA_AVG True\n",
    "YEARS_BEGINEXPLUATATION_AVG True\n",
    "YEARS_BUILD_AVG True\n",
    "COMMONAREA_AVG True\n",
    "ELEVATORS_AVG True\n",
    "...\n",
    "Output is truncated.\n",
    "'''\n",
    "\n",
    "\n",
    "\n",
    "\n",
    "\n",
    "#The function below will show us the outlier values for the associated column.\n",
    "#If there are outliers more than 10, it will only show us first 5 (f = 5) outliers.\n",
    "#Otherwise, it will show all outliers. \n",
    "\n",
    "def grab_outliers(dataframe, col_name, outlier_index=False, f = 5):\n",
    "    low, up = outlier_thresholds(dataframe, col_name)\n",
    "\n",
    "    if dataframe[((dataframe[col_name] < low) | (dataframe[col_name] > up))].shape[0] > 10:\n",
    "        print(dataframe[((dataframe[col_name] < low) | (dataframe[col_name] > up))].head(f))\n",
    "    else:\n",
    "        print(dataframe[((dataframe[col_name] < low) | (dataframe[col_name] > up))])\n",
    "\n",
    "    if outlier_index:\n",
    "        out_index = dataframe[((dataframe[col_name] < low) | (dataframe[col_name] > up))].index\n",
    "        return out_index\n",
    "\n",
    "\n",
    "\n",
    "\n",
    "\n",
    "age_index = grab_outliers(df, \"Age\", True)\n",
    "'''\n",
    "     PassengerId  Survived  Pclass                            Name   Sex   Age  SibSp  Parch      Ticket     Fare Cabin Embarked\n",
    "33            34         0       2           Wheadon, Mr. Edward H  male  66.0      0      0  C.A. 24579  10.5000   NaN        S\n",
    "54            55         0       1  Ostby, Mr. Engelhart Cornelius  male  65.0      0      1      113509  61.9792   B30        C\n",
    "96            97         0       1       Goldschmidt, Mr. George B  male  71.0      0      0    PC 17754  34.6542    A5        C\n",
    "116          117         0       3            Connors, Mr. Patrick  male  70.5      0      0      370369   7.7500   NaN        Q\n",
    "280          281         0       3                Duane, Mr. Frank  male  65.0      0      0      336439   7.7500   NaN        Q\n",
    "'''\n",
    "\n",
    "#Now see the index of outliers...\n",
    "print(age_index) # Int64Index([33, 54, 96, 116, 280, 456, 493, 630, 672, 745, 851], dtype='int64')"
   ]
  },
  {
   "cell_type": "code",
   "execution_count": 11,
   "id": "66c7aaf6-cc3b-4557-998e-d9b592b2d232",
   "metadata": {},
   "outputs": [
    {
     "name": "stdout",
     "output_type": "stream",
     "text": [
      "(891, 12)\n",
      "(775, 12)\n"
     ]
    },
    {
     "ename": "NameError",
     "evalue": "name 'grab_col_names' is not defined",
     "output_type": "error",
     "traceback": [
      "\u001b[1;31m---------------------------------------------------------------------------\u001b[0m",
      "\u001b[1;31mNameError\u001b[0m                                 Traceback (most recent call last)",
      "Cell \u001b[1;32mIn[11], line 31\u001b[0m\n\u001b[0;32m     25\u001b[0m     df_without_outliers \u001b[38;5;241m=\u001b[39m dataframe[\u001b[38;5;241m~\u001b[39m((dataframe[col_name] \u001b[38;5;241m<\u001b[39m low_limit) \u001b[38;5;241m|\u001b[39m (dataframe[col_name] \u001b[38;5;241m>\u001b[39m up_limit))]\n\u001b[0;32m     26\u001b[0m     \u001b[38;5;28;01mreturn\u001b[39;00m df_without_outliers\n\u001b[1;32m---> 31\u001b[0m cat_cols, num_cols, cat_but_car \u001b[38;5;241m=\u001b[39m grab_col_names(df)\n\u001b[0;32m     32\u001b[0m \u001b[38;5;124;03m'''\u001b[39;00m\n\u001b[0;32m     33\u001b[0m \u001b[38;5;124;03mObservations: 891\u001b[39;00m\n\u001b[0;32m     34\u001b[0m \u001b[38;5;124;03mVariables: 12\u001b[39;00m\n\u001b[1;32m   (...)\u001b[0m\n\u001b[0;32m     38\u001b[0m \u001b[38;5;124;03mnum_but_cat: 4\u001b[39;00m\n\u001b[0;32m     39\u001b[0m \u001b[38;5;124;03m'''\u001b[39;00m\n\u001b[0;32m     40\u001b[0m num_cols\u001b[38;5;241m.\u001b[39mremove(\u001b[38;5;124m'\u001b[39m\u001b[38;5;124mPassengerId\u001b[39m\u001b[38;5;124m'\u001b[39m)\n",
      "\u001b[1;31mNameError\u001b[0m: name 'grab_col_names' is not defined"
     ]
    }
   ],
   "source": [
    "#Let's import titanic data.\n",
    "df = load()\n",
    "\n",
    "\n",
    "###############################################\n",
    "#Remove Outliers..\n",
    "###############################################\n",
    "low, up = outlier_thresholds(df, \"Fare\")\n",
    "#Shape of data with outliers\n",
    "print(df.shape) # (891, 12)\n",
    "\n",
    "\n",
    "\n",
    "#Be careful! We used tilda (~) in order to see the shape of data without outliers!\n",
    "#There are 116 outliers for 'Fare' variable, therefore if we only remove Fare outliers,\n",
    "#our new data will have (775,12) \n",
    "print(df[~((df[\"Fare\"] < low) | (df[\"Fare\"] > up))].shape) #(775,12) \n",
    "\n",
    "\n",
    "\n",
    "\n",
    "#We can write a function for this!!!\n",
    "def remove_outlier(dataframe, col_name):\n",
    "    low_limit, up_limit = outlier_thresholds(dataframe, col_name)\n",
    "    df_without_outliers = dataframe[~((dataframe[col_name] < low_limit) | (dataframe[col_name] > up_limit))]\n",
    "    return df_without_outliers\n",
    "\n",
    "\n",
    "\n",
    "\n",
    "cat_cols, num_cols, cat_but_car = grab_col_names(df)\n",
    "'''\n",
    "Observations: 891\n",
    "Variables: 12\n",
    "cat_cols: 6\n",
    "num_cols: 3\n",
    "cat_but_car: 3\n",
    "num_but_cat: 4\n",
    "'''\n",
    "num_cols.remove('PassengerId')\n",
    "\n",
    "for col in num_cols:\n",
    "    df = remove_outlier(df,col)\n",
    "\n",
    "\n",
    "\n",
    "\n",
    "#Now we removed 'Age' outliers and 'Fare' outliers. Age has 10 outliers and Fare has 116 outliers,\n",
    "#therefore we removed 126 outliers. \n",
    "print(df.shape) # (765,12) \n",
    "\n",
    "\n",
    "\n",
    "\n",
    "\n",
    "###############################################\n",
    "#Re-assignment with thresholds..\n",
    "###############################################\n",
    "##Now we will assign outliers with thresholds. We can write a function for this\n",
    "def replace_with_thresholds(dataframe, variable):\n",
    "    low_limit, up_limit = outlier_thresholds(dataframe, variable)\n",
    "    dataframe.loc[(dataframe[variable] < low_limit), variable] = low_limit\n",
    "    dataframe.loc[(dataframe[variable] > up_limit), variable] = up_limit\n",
    "\n",
    "\n",
    "\n",
    "\n",
    "#Import titanic data.\n",
    "df = load()\n",
    "\n",
    "\n",
    "\n",
    "\n",
    "cat_cols, num_cols, cat_but_car = grab_col_names(df)\n",
    "'''\n",
    "Observations: 891\n",
    "Variables: 12\n",
    "cat_cols: 6\n",
    "num_cols: 3\n",
    "cat_but_car: 3\n",
    "num_but_cat: 4\n",
    "'''\n",
    "num_cols.remove('PassengerId')\n",
    "\n",
    "\n",
    "\n",
    "\n",
    "\n",
    "#Let's see which column has outliers...\n",
    "for col in num_cols:\n",
    "    print(col, check_outlier(df, col))\n",
    "\n",
    "'''\n",
    "Age True\n",
    "Fare True\n",
    "'''\n",
    "\n",
    "\n",
    "\n",
    "\n",
    "#Now replace these outliers with thresholds.\n",
    "for col in num_cols:\n",
    "    replace_with_thresholds(df, col)\n",
    "\n",
    "\n",
    "\n",
    "#After replacing, we shouldn't have any outlier. So let's check again.\n",
    "for col in num_cols:\n",
    "    print(col, check_outlier(df, col))\n",
    "\n",
    "'''\n",
    "Age False\n",
    "Fare False\n",
    "'''"
   ]
  },
  {
   "cell_type": "code",
   "execution_count": 12,
   "id": "09ddf913-311d-49aa-88ca-1748d0bd9449",
   "metadata": {},
   "outputs": [
    {
     "name": "stdout",
     "output_type": "stream",
     "text": [
      "(53940, 10)\n",
      "   carat      cut color clarity  depth  table  price     x     y     z\n",
      "0   0.23    Ideal     E     SI2   61.5   55.0    326  3.95  3.98  2.43\n",
      "1   0.21  Premium     E     SI1   59.8   61.0    326  3.89  3.84  2.31\n",
      "2   0.23     Good     E     VS1   56.9   65.0    327  4.05  4.07  2.31\n",
      "3   0.29  Premium     I     VS2   62.4   58.0    334  4.20  4.23  2.63\n",
      "4   0.31     Good     J     SI2   63.3   58.0    335  4.34  4.35  2.75\n"
     ]
    }
   ],
   "source": [
    "#Let's look at diamonds dataset. There are 53940 rows.\n",
    "df = sns.load_dataset('diamonds')\n",
    "print(df.shape)  #  (53940, 10)\n",
    "print(df.head())\n"
   ]
  },
  {
   "cell_type": "code",
   "execution_count": 13,
   "id": "ba73f643-0905-4578-8cd4-46014c73e2c5",
   "metadata": {},
   "outputs": [
    {
     "name": "stdout",
     "output_type": "stream",
     "text": [
      "(53940, 7)\n",
      "   carat  depth  table  price     x     y     z\n",
      "0   0.23   61.5   55.0    326  3.95  3.98  2.43\n",
      "1   0.21   59.8   61.0    326  3.89  3.84  2.31\n",
      "2   0.23   56.9   65.0    327  4.05  4.07  2.31\n",
      "3   0.29   62.4   58.0    334  4.20  4.23  2.63\n",
      "4   0.31   63.3   58.0    335  4.34  4.35  2.75\n"
     ]
    }
   ],
   "source": [
    "#Remove non numeric columns.\n",
    "df = df.select_dtypes(include=['float64', 'int64'])\n",
    "df = df.dropna()\n",
    "print(df.shape)   #  (53940, 7)\n",
    "print(df.head())"
   ]
  },
  {
   "cell_type": "code",
   "execution_count": 14,
   "id": "9b4936a2-9a09-4abe-bd01-89607955d6c0",
   "metadata": {},
   "outputs": [
    {
     "name": "stdout",
     "output_type": "stream",
     "text": [
      "carat True\n",
      "depth True\n",
      "table True\n",
      "price True\n",
      "x True\n",
      "y True\n",
      "z True\n"
     ]
    }
   ],
   "source": [
    "#Let's check columns that contain outliers.\n",
    "for col in df.columns:\n",
    "    print(col, check_outlier(df, col))"
   ]
  },
  {
   "cell_type": "code",
   "execution_count": 15,
   "id": "90b91c82-b34e-4997-9e1e-b8d2e4ab3380",
   "metadata": {},
   "outputs": [
    {
     "name": "stdout",
     "output_type": "stream",
     "text": [
      "(1889, 7)\n",
      "(2545, 7)\n"
     ]
    },
    {
     "ename": "NameError",
     "evalue": "name 'LocalOutlierFactor' is not defined",
     "output_type": "error",
     "traceback": [
      "\u001b[1;31m---------------------------------------------------------------------------\u001b[0m",
      "\u001b[1;31mNameError\u001b[0m                                 Traceback (most recent call last)",
      "Cell \u001b[1;32mIn[15], line 20\u001b[0m\n\u001b[0;32m     11\u001b[0m \u001b[38;5;28mprint\u001b[39m(df[((df[\u001b[38;5;124m\"\u001b[39m\u001b[38;5;124mdepth\u001b[39m\u001b[38;5;124m\"\u001b[39m] \u001b[38;5;241m<\u001b[39m low) \u001b[38;5;241m|\u001b[39m (df[\u001b[38;5;124m\"\u001b[39m\u001b[38;5;124mdepth\u001b[39m\u001b[38;5;124m\"\u001b[39m] \u001b[38;5;241m>\u001b[39m up))]\u001b[38;5;241m.\u001b[39mshape)  \u001b[38;5;66;03m# (2545, 7)\u001b[39;00m\n\u001b[0;32m     12\u001b[0m \u001b[38;5;66;03m#And there are also many 'depth' outlier.\u001b[39;00m\n\u001b[0;32m     13\u001b[0m \n\u001b[0;32m     14\u001b[0m \n\u001b[1;32m   (...)\u001b[0m\n\u001b[0;32m     18\u001b[0m \u001b[38;5;66;03m#Generally, we use n_neighbors = 20\u001b[39;00m\n\u001b[0;32m     19\u001b[0m \u001b[38;5;66;03m#Then, we will transform each point to a score according to the LOF.\u001b[39;00m\n\u001b[1;32m---> 20\u001b[0m clf \u001b[38;5;241m=\u001b[39m LocalOutlierFactor(n_neighbors\u001b[38;5;241m=\u001b[39m\u001b[38;5;241m20\u001b[39m)\n\u001b[0;32m     21\u001b[0m clf\u001b[38;5;241m.\u001b[39mfit_predict(df)\n\u001b[0;32m     22\u001b[0m df_scores \u001b[38;5;241m=\u001b[39m clf\u001b[38;5;241m.\u001b[39mnegative_outlier_factor_\n",
      "\u001b[1;31mNameError\u001b[0m: name 'LocalOutlierFactor' is not defined"
     ]
    }
   ],
   "source": [
    "#Let's see how many rows contain outlier 'carat'\n",
    "low, up = outlier_thresholds(df, \"carat\")\n",
    "print(df[((df[\"carat\"] < low) | (df[\"carat\"] > up))].shape)  # (1889, 7)\n",
    "#As you can see there are so many 'carat' outlier.\n",
    "\n",
    "\n",
    "\n",
    "\n",
    "#see how many rows contain outlier 'depth'\n",
    "low, up = outlier_thresholds(df, \"depth\")\n",
    "print(df[((df[\"depth\"] < low) | (df[\"depth\"] > up))].shape)  # (2545, 7)\n",
    "#And there are also many 'depth' outlier.\n",
    "\n",
    "\n",
    "\n",
    "\n",
    "#Now we will create a Local Outlier Factor with n_neighbors = 20\n",
    "#Generally, we use n_neighbors = 20\n",
    "#Then, we will transform each point to a score according to the LOF.\n",
    "clf = LocalOutlierFactor(n_neighbors=20)\n",
    "clf.fit_predict(df)\n",
    "df_scores = clf.negative_outlier_factor_\n",
    "print(df_scores)\n",
    "#[-1.58352526 -1.59732899 -1.62278873 ... -1.06721815 -1.00809552  -1.00849038]\n",
    "#These points are negative and there are 53940 points. The closer to -1, \n",
    "#the higher the chance of not being an outlier.\n",
    "\n",
    "\n",
    "\n",
    "\n",
    "#Let's sort df_scores and see first 5 of them.\n",
    "print(np.sort(df_scores)[0:5]) # array([-8.60430658, -8.20889984, -5.86084355, -4.98415175, -4.81502092])\n",
    "\n",
    "\n",
    "\n",
    "\n",
    "#Now see first 20 sorted  df_scores.\n",
    "scores = pd.DataFrame(np.sort(df_scores))\n",
    "scores.plot(stacked=True, xlim=[0, 20], style='.-')\n",
    "plt.show()  #IMAGE IS BELOW! LOF.png"
   ]
  },
  {
   "cell_type": "code",
   "execution_count": 16,
   "id": "31801bb8-ed50-42a0-9e4a-09603e526c81",
   "metadata": {},
   "outputs": [
    {
     "ename": "NameError",
     "evalue": "name 'df_scores' is not defined",
     "output_type": "error",
     "traceback": [
      "\u001b[1;31m---------------------------------------------------------------------------\u001b[0m",
      "\u001b[1;31mNameError\u001b[0m                                 Traceback (most recent call last)",
      "Cell \u001b[1;32mIn[16], line 1\u001b[0m\n\u001b[1;32m----> 1\u001b[0m th \u001b[38;5;241m=\u001b[39m np\u001b[38;5;241m.\u001b[39msort(df_scores)[\u001b[38;5;241m3\u001b[39m] \u001b[38;5;66;03m# 4th point is our threshold.\u001b[39;00m\n\u001b[0;32m      2\u001b[0m \u001b[38;5;28mprint\u001b[39m(th)                  \u001b[38;5;66;03m# -4.9841\u001b[39;00m\n\u001b[0;32m      8\u001b[0m \u001b[38;5;66;03m#Now let's look at the rows that are outliers.\u001b[39;00m\n",
      "\u001b[1;31mNameError\u001b[0m: name 'df_scores' is not defined"
     ]
    }
   ],
   "source": [
    "th = np.sort(df_scores)[3] # 4th point is our threshold.\n",
    "print(th)                  # -4.9841\n",
    "\n",
    "\n",
    "\n",
    "\n",
    "\n",
    "#Now let's look at the rows that are outliers.\n",
    "print(df[df_scores < th])"
   ]
  },
  {
   "cell_type": "code",
   "execution_count": 17,
   "id": "3c3e12b2-a8a8-4235-9e28-ebbcf90bcf01",
   "metadata": {},
   "outputs": [
    {
     "ename": "NameError",
     "evalue": "name 'df_scores' is not defined",
     "output_type": "error",
     "traceback": [
      "\u001b[1;31m---------------------------------------------------------------------------\u001b[0m",
      "\u001b[1;31mNameError\u001b[0m                                 Traceback (most recent call last)",
      "Cell \u001b[1;32mIn[17], line 2\u001b[0m\n\u001b[0;32m      1\u001b[0m \u001b[38;5;66;03m#And we drop these above 3 rows from our dataset...\u001b[39;00m\n\u001b[1;32m----> 2\u001b[0m \u001b[38;5;28mprint\u001b[39m(df\u001b[38;5;241m.\u001b[39mdrop(axis\u001b[38;5;241m=\u001b[39m\u001b[38;5;241m0\u001b[39m, labels\u001b[38;5;241m=\u001b[39mdf[df_scores \u001b[38;5;241m<\u001b[39m th]\u001b[38;5;241m.\u001b[39mindex)\u001b[38;5;241m.\u001b[39mshape)\n",
      "\u001b[1;31mNameError\u001b[0m: name 'df_scores' is not defined"
     ]
    }
   ],
   "source": [
    "#And we drop these above 3 rows from our dataset...\n",
    "print(df.drop(axis=0, labels=df[df_scores < th].index).shape) #(53937, 7)"
   ]
  },
  {
   "cell_type": "code",
   "execution_count": null,
   "id": "f4c06f4e-bf5f-418c-a866-2cd1a5ea9477",
   "metadata": {},
   "outputs": [],
   "source": []
  }
 ],
 "metadata": {
  "kernelspec": {
   "display_name": "Python 3 (ipykernel)",
   "language": "python",
   "name": "python3"
  },
  "language_info": {
   "codemirror_mode": {
    "name": "ipython",
    "version": 3
   },
   "file_extension": ".py",
   "mimetype": "text/x-python",
   "name": "python",
   "nbconvert_exporter": "python",
   "pygments_lexer": "ipython3",
   "version": "3.11.7"
  }
 },
 "nbformat": 4,
 "nbformat_minor": 5
}
